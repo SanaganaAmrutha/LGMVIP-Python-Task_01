{
 "cells": [
  {
   "cell_type": "code",
   "execution_count": null,
   "id": "264a8bc4-b56b-49ba-81fa-fd1c02d6178d",
   "metadata": {
    "tags": []
   },
   "outputs": [
    {
     "name": "stdout",
     "output_type": "stream",
     "text": [
      "\n",
      "To-Do List Application\n",
      "1. Add Task\n",
      "2. View Tasks\n",
      "3. Update Task\n",
      "4. Delete Task\n",
      "5. Exit\n"
     ]
    }
   ],
   "source": [
    "todo_list = []\n",
    "\n",
    "while True:\n",
    "    print(\"\\nTo-Do List Application\")\n",
    "    print(\"1. Add Task\")\n",
    "    print(\"2. View Tasks\")\n",
    "    print(\"3. Update Task\")\n",
    "    print(\"4. Delete Task\")\n",
    "    print(\"5. Exit\")\n",
    "    \n",
    "    choice = input(\"Enter your choice here(1/2/3/4/5): \")\n",
    "    \n",
    "    if choice == '1':\n",
    "        task = input(\"Enter a new task: \")\n",
    "        todo_list.append(task)\n",
    "        print(\"Task added sucessfully!\")\n",
    "    elif choice == '2':\n",
    "        print(\"\\nTasks:\")\n",
    "        for idx, task in enumerate(todo_list, 1):\n",
    "            print(f\"{idx}. {task}\")\n",
    "    elif choice == '3':\n",
    "        idx = int(input(\"Enter task number to update: \")) - 1\n",
    "        if 0 <= idx < len(todo_list):\n",
    "            todo_list[idx] = input(\"Enter updated task: \")\n",
    "            print(\"Task updated successfully!\")\n",
    "        else:\n",
    "            print(\"Invalid task number given.\")\n",
    "    elif choice == '4':\n",
    "        idx = int(input(\"Enter task number to delete: \")) - 1\n",
    "        if 0 <= idx < len(todo_list):\n",
    "            todo_list.pop(idx)\n",
    "            print(\"Task deleted successfully!\")\n",
    "        else:\n",
    "            print(\"Invalid task number.\")\n",
    "    elif choice == '5':\n",
    "        print(\"Exiting...\")\n",
    "        break\n",
    "    else:\n",
    "        print(\"Invalid choice. Please check the choice you have given.\")\n"
   ]
  },
  {
   "cell_type": "code",
   "execution_count": null,
   "id": "876485b2-b576-4e6d-aa34-0af0587b0f2b",
   "metadata": {},
   "outputs": [],
   "source": []
  }
 ],
 "metadata": {
  "kernelspec": {
   "display_name": "Python 3 (ipykernel)",
   "language": "python",
   "name": "python3"
  },
  "language_info": {
   "codemirror_mode": {
    "name": "ipython",
    "version": 3
   },
   "file_extension": ".py",
   "mimetype": "text/x-python",
   "name": "python",
   "nbconvert_exporter": "python",
   "pygments_lexer": "ipython3",
   "version": "3.11.5"
  }
 },
 "nbformat": 4,
 "nbformat_minor": 5
}
